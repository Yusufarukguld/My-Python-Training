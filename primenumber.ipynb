{
 "cells": [
  {
   "cell_type": "code",
   "execution_count": null,
   "id": "6feea6ca-eb98-4b2b-b0a1-eba9a7dd2c82",
   "metadata": {},
   "outputs": [],
   "source": [
    "def findprimesinrange(a,b):\n",
    "    for i in range(a,b+1):\n",
    "        if (i>1):\n",
    "            for x in range(2,i):\n",
    "                if (i % x == 0):\n",
    "                    break\n",
    "            else:\n",
    "                print(i) \n",
    "            \n",
    "            "
   ]
  },
  {
   "cell_type": "code",
   "execution_count": null,
   "id": "1cb8e36e-a55e-421a-9a7b-df5019a1b25a",
   "metadata": {},
   "outputs": [],
   "source": [
    "def isprime(x):\n",
    "    for i in range(2,x):\n",
    "        if ( x % i == 0):\n",
    "            return False\n",
    "        else:\n",
    "            return True\n",
    "\n",
    "    "
   ]
  }
 ],
 "metadata": {
  "kernelspec": {
   "display_name": "Python 3 (ipykernel)",
   "language": "python",
   "name": "python3"
  },
  "language_info": {
   "codemirror_mode": {
    "name": "ipython",
    "version": 3
   },
   "file_extension": ".py",
   "mimetype": "text/x-python",
   "name": "python",
   "nbconvert_exporter": "python",
   "pygments_lexer": "ipython3",
   "version": "3.9.7"
  }
 },
 "nbformat": 4,
 "nbformat_minor": 5
}
